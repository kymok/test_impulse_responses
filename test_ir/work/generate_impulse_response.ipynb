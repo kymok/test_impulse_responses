{
 "cells": [
  {
   "cell_type": "markdown",
   "id": "skilled-harrison",
   "metadata": {},
   "source": [
    "# Generate IR with Delay (Echo) Effect"
   ]
  },
  {
   "cell_type": "code",
   "execution_count": 43,
   "id": "electrical-alaska",
   "metadata": {},
   "outputs": [],
   "source": [
    "import scipy.io.wavfile\n",
    "import numpy as np\n",
    "\n",
    "# parameters\n",
    "\n",
    "fs = 44100\n",
    "duration = 1.0\n",
    "delays = [\n",
    "    {\n",
    "        \"time\": 0.,\n",
    "        \"level\": 0.,\n",
    "        \"channel\": 0,\n",
    "    },\n",
    "    {\n",
    "        \"time\": 0.,\n",
    "        \"level\": -12.,\n",
    "        \"channel\": 1,\n",
    "    },\n",
    "    {\n",
    "        \"time\": .2,\n",
    "        \"level\": -18.,\n",
    "        \"channel\": 0,\n",
    "    },\n",
    "    {\n",
    "        \"time\": .2,\n",
    "        \"level\": -6.,\n",
    "        \"channel\": 1,\n",
    "    }\n",
    "]"
   ]
  },
  {
   "cell_type": "code",
   "execution_count": 44,
   "id": "formed-russian",
   "metadata": {},
   "outputs": [],
   "source": [
    "def generate_unit_ir(filename, fs, duration):\n",
    "    shape = (int(fs*duration), 2)\n",
    "    ir = np.zeros(shape, dtype=np.float32)\n",
    "    ir[0, 0] = 1.\n",
    "    ir[0, 1] = 1.\n",
    "    scipy.io.wavfile.write(filename, fs, ir)\n",
    "\n",
    "def generate_delay_ir(filename, fs, duration, delays):\n",
    "    shape = (int(fs*duration), 2)\n",
    "    ir = np.zeros(shape, dtype=np.float32)\n",
    "\n",
    "    for delay in delays:\n",
    "        # to level\n",
    "        n = int(fs * delay[\"time\"])\n",
    "        level = np.power(10, delay[\"level\"]/20)\n",
    "        channel = delay[\"channel\"]\n",
    "        # write\n",
    "        ir[n, channel] = level\n",
    "\n",
    "    # write to wav\n",
    "    scipy.io.wavfile.write(filename, fs, ir)\n",
    "    \n",
    "generate_unit_ir(\"IR_unit.wav\", fs, duration)\n",
    "generate_delay_ir(\"IR_delay_effect.wav\", fs, duration, delays)"
   ]
  },
  {
   "cell_type": "markdown",
   "id": "forbidden-murder",
   "metadata": {},
   "source": [
    "# Plot"
   ]
  },
  {
   "cell_type": "code",
   "execution_count": 45,
   "id": "wound-landscape",
   "metadata": {},
   "outputs": [
    {
     "data": {
      "image/png": "[encoded data removed]",
      "text/plain": [
       "<Figure size 432x288 with 2 Axes>"
      ]
     },
     "metadata": {
      "needs_background": "light"
     },
     "output_type": "display_data"
    }
   ],
   "source": [
    "import matplotlib.pyplot as plt\n",
    "\n",
    "fig, (ax1, ax2) = plt.subplots(2,1)\n",
    "ax1.set_ylim(-1,1)\n",
    "ax1.set_title('left')\n",
    "ax1.plot(ir[:,0])\n",
    "ax2.set_title('right')\n",
    "ax2.set_ylim(-1,1)\n",
    "ax2.plot(ir[:,1])\n",
    "fig.tight_layout()\n",
    "\n",
    "fig.savefig('plot.png')"
   ]
  },
  {
   "cell_type": "code",
   "execution_count": null,
   "id": "relative-median",
   "metadata": {},
   "outputs": [],
   "source": []
  }
 ],
 "metadata": {
  "kernelspec": {
   "display_name": "Python 3",
   "language": "python",
   "name": "python3"
  },
  "language_info": {
   "codemirror_mode": {
    "name": "ipython",
    "version": 3
   },
   "file_extension": ".py",
   "mimetype": "text/x-python",
   "name": "python",
   "nbconvert_exporter": "python",
   "pygments_lexer": "ipython3",
   "version": "3.9.2"
  }
 },
 "nbformat": 4,
 "nbformat_minor": 5
}
